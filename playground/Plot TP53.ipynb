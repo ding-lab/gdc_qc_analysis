{
 "cells": [
  {
   "cell_type": "code",
   "execution_count": 1,
   "metadata": {},
   "outputs": [],
   "source": [
    "%matplotlib inline\n",
    "from matplotlib import pyplot as plt\n",
    "import matplotlib as mpl"
   ]
  },
  {
   "cell_type": "code",
   "execution_count": 2,
   "metadata": {},
   "outputs": [],
   "source": [
    "import pandas as pd"
   ]
  },
  {
   "cell_type": "code",
   "execution_count": 3,
   "metadata": {},
   "outputs": [],
   "source": [
    "df_overlap_grp = pd.read_csv('../processed_data/tp53_overlap.csv')"
   ]
  },
  {
   "cell_type": "code",
   "execution_count": 4,
   "metadata": {},
   "outputs": [
    {
     "data": {
      "text/html": [
       "<div>\n",
       "<style scoped>\n",
       "    .dataframe tbody tr th:only-of-type {\n",
       "        vertical-align: middle;\n",
       "    }\n",
       "\n",
       "    .dataframe tbody tr th {\n",
       "        vertical-align: top;\n",
       "    }\n",
       "\n",
       "    .dataframe thead th {\n",
       "        text-align: right;\n",
       "    }\n",
       "</style>\n",
       "<table border=\"1\" class=\"dataframe\">\n",
       "  <thead>\n",
       "    <tr style=\"text-align: right;\">\n",
       "      <th></th>\n",
       "      <th>start_position</th>\n",
       "      <th>end_position</th>\n",
       "      <th>level_2</th>\n",
       "      <th>shared</th>\n",
       "      <th>only_in_gdc</th>\n",
       "      <th>only_in_mc3</th>\n",
       "    </tr>\n",
       "  </thead>\n",
       "  <tbody>\n",
       "    <tr>\n",
       "      <th>0</th>\n",
       "      <td>7669353</td>\n",
       "      <td>7669353</td>\n",
       "      <td>0</td>\n",
       "      <td>0</td>\n",
       "      <td>1</td>\n",
       "      <td>0</td>\n",
       "    </tr>\n",
       "    <tr>\n",
       "      <th>1</th>\n",
       "      <td>7669464</td>\n",
       "      <td>7669464</td>\n",
       "      <td>0</td>\n",
       "      <td>0</td>\n",
       "      <td>1</td>\n",
       "      <td>0</td>\n",
       "    </tr>\n",
       "    <tr>\n",
       "      <th>2</th>\n",
       "      <td>7669511</td>\n",
       "      <td>7669511</td>\n",
       "      <td>0</td>\n",
       "      <td>1</td>\n",
       "      <td>0</td>\n",
       "      <td>0</td>\n",
       "    </tr>\n",
       "    <tr>\n",
       "      <th>3</th>\n",
       "      <td>7669624</td>\n",
       "      <td>7669624</td>\n",
       "      <td>0</td>\n",
       "      <td>0</td>\n",
       "      <td>1</td>\n",
       "      <td>0</td>\n",
       "    </tr>\n",
       "    <tr>\n",
       "      <th>4</th>\n",
       "      <td>7670664</td>\n",
       "      <td>7670664</td>\n",
       "      <td>0</td>\n",
       "      <td>2</td>\n",
       "      <td>0</td>\n",
       "      <td>0</td>\n",
       "    </tr>\n",
       "  </tbody>\n",
       "</table>\n",
       "</div>"
      ],
      "text/plain": [
       "   start_position  end_position  level_2  shared  only_in_gdc  only_in_mc3\n",
       "0         7669353       7669353        0       0            1            0\n",
       "1         7669464       7669464        0       0            1            0\n",
       "2         7669511       7669511        0       1            0            0\n",
       "3         7669624       7669624        0       0            1            0\n",
       "4         7670664       7670664        0       2            0            0"
      ]
     },
     "execution_count": 4,
     "metadata": {},
     "output_type": "execute_result"
    }
   ],
   "source": [
    "df_overlap_grp.head()"
   ]
  },
  {
   "cell_type": "code",
   "execution_count": 5,
   "metadata": {},
   "outputs": [
    {
     "data": {
      "text/plain": [
       "(7669353, 7676611)"
      ]
     },
     "execution_count": 5,
     "metadata": {},
     "output_type": "execute_result"
    },
    {
     "data": {
      "image/png": "[encoded data removed]",
      "text/plain": [
       "<Figure size 1008x432 with 1 Axes>"
      ]
     },
     "metadata": {},
     "output_type": "display_data"
    }
   ],
   "source": [
    "fig, ax = plt.subplots(figsize=(14, 6))\n",
    "for v in df_overlap_grp.itertuples(index=False):\n",
    "    if v.shared:\n",
    "        p = mpl.patches.Rectangle((v.start_position, 0), v.end_position - v.start_position, v.shared / 2, color='grey')\n",
    "        ax.add_patch(p)\n",
    "        p = mpl.patches.Rectangle((v.start_position, -v.shared / 2), v.end_position - v.start_position, v.shared / 2, color='grey')\n",
    "        ax.add_patch(p)\n",
    "    if v.only_in_gdc:\n",
    "        p = mpl.patches.Rectangle((v.start_position, v.shared / 2), v.end_position - v.start_position, v.only_in_gdc, color='blue')\n",
    "        ax.add_patch(p)\n",
    "    if v.only_in_mc3:\n",
    "        p = mpl.patches.Rectangle((v.start_position, -v.shared / 2 -v.only_in_mc3), v.end_position - v.start_position, v.only_in_mc3, color='gold')\n",
    "        ax.add_patch(p)\n",
    "plt.plot([df_overlap_grp['start_position'].min(), df_overlap_grp['start_position'].max()], [0, 0], 'k-', lw=1)\n",
    "plt.ylim(-30, 30)\n",
    "plt.xlim(df_overlap_grp['start_position'].min(), df_overlap_grp['start_position'].max())\n",
    "# plt.grid(True)"
   ]
  },
  {
   "cell_type": "code",
   "execution_count": 6,
   "metadata": {},
   "outputs": [],
   "source": [
    "fig.savefig('../processed_data/tp53.png', bbox_inches='tight', dpi=300)"
   ]
  },
  {
   "cell_type": "code",
   "execution_count": 7,
   "metadata": {},
   "outputs": [
    {
     "data": {
      "text/plain": [
       "(7674800, 7675300)"
      ]
     },
     "execution_count": 7,
     "metadata": {},
     "output_type": "execute_result"
    },
    {
     "data": {
      "image/png": "[encoded data removed]",
      "text/plain": [
       "<Figure size 1008x432 with 1 Axes>"
      ]
     },
     "metadata": {},
     "output_type": "display_data"
    }
   ],
   "source": [
    "fig, ax = plt.subplots(figsize=(14, 6))\n",
    "for v in df_overlap_grp.itertuples(index=False):\n",
    "    if v.shared:\n",
    "        p = mpl.patches.Rectangle((v.start_position, 0), v.end_position - v.start_position, v.shared / 2, color='grey')\n",
    "        ax.add_patch(p)\n",
    "        p = mpl.patches.Rectangle((v.start_position, -v.shared / 2), v.end_position - v.start_position, v.shared / 2, color='grey')\n",
    "        ax.add_patch(p)\n",
    "    if v.only_in_gdc:\n",
    "        p = mpl.patches.Rectangle((v.start_position, v.shared / 2), v.end_position - v.start_position, v.only_in_gdc, color='blue')\n",
    "        ax.add_patch(p)\n",
    "    if v.only_in_mc3:\n",
    "        p = mpl.patches.Rectangle((v.start_position, -v.shared / 2 -v.only_in_mc3), v.end_position - v.start_position, v.only_in_mc3, color='gold')\n",
    "        ax.add_patch(p)\n",
    "plt.plot([df_overlap_grp['start_position'].min(), df_overlap_grp['start_position'].max()], [0, 0], 'k-', lw=1)\n",
    "plt.ylim(-20, 20)\n",
    "plt.xlim(7675000 - 200, 7675000 + 300)\n",
    "# plt.grid(True)"
   ]
  },
  {
   "cell_type": "code",
   "execution_count": 8,
   "metadata": {},
   "outputs": [],
   "source": [
    "fig.savefig('../processed_data/tp53_zoom1.png', bbox_inches='tight', dpi=300)"
   ]
  },
  {
   "cell_type": "code",
   "execution_count": 9,
   "metadata": {},
   "outputs": [
    {
     "data": {
      "text/plain": [
       "(7675900, 7676500)"
      ]
     },
     "execution_count": 9,
     "metadata": {},
     "output_type": "execute_result"
    },
    {
     "data": {
      "image/png": "[encoded data removed]",
      "text/plain": [
       "<Figure size 1008x432 with 1 Axes>"
      ]
     },
     "metadata": {},
     "output_type": "display_data"
    }
   ],
   "source": [
    "fig, ax = plt.subplots(figsize=(14, 6))\n",
    "for v in df_overlap_grp.itertuples(index=False):\n",
    "    if v.shared:\n",
    "        p = mpl.patches.Rectangle((v.start_position, 0), v.end_position - v.start_position, v.shared / 2, color='grey')\n",
    "        ax.add_patch(p)\n",
    "        p = mpl.patches.Rectangle((v.start_position, -v.shared / 2), v.end_position - v.start_position, v.shared / 2, color='grey')\n",
    "        ax.add_patch(p)\n",
    "    if v.only_in_gdc:\n",
    "        p = mpl.patches.Rectangle((v.start_position, v.shared / 2), v.end_position - v.start_position, v.only_in_gdc, color='blue')\n",
    "        ax.add_patch(p)\n",
    "    if v.only_in_mc3:\n",
    "        p = mpl.patches.Rectangle((v.start_position, -v.shared / 2 -v.only_in_mc3), v.end_position - v.start_position, v.only_in_mc3, color='gold')\n",
    "        ax.add_patch(p)\n",
    "plt.plot([df_overlap_grp['start_position'].min(), df_overlap_grp['start_position'].max()], [0, 0], 'k-', lw=1)\n",
    "plt.ylim(-8, 8)\n",
    "plt.xlim(7676000 - 100, 7676000 + 500)\n",
    "# plt.grid(True)"
   ]
  },
  {
   "cell_type": "code",
   "execution_count": 10,
   "metadata": {},
   "outputs": [],
   "source": [
    "fig.savefig('../processed_data/tp53_zoom2.png', bbox_inches='tight', dpi=300)"
   ]
  },
  {
   "cell_type": "code",
   "execution_count": null,
   "metadata": {},
   "outputs": [],
   "source": []
  }
 ],
 "metadata": {
  "kernelspec": {
   "display_name": "Python 3",
   "language": "python",
   "name": "python3"
  },
  "language_info": {
   "codemirror_mode": {
    "name": "ipython",
    "version": 3
   },
   "file_extension": ".py",
   "mimetype": "text/x-python",
   "name": "python",
   "nbconvert_exporter": "python",
   "pygments_lexer": "ipython3",
   "version": "3.6.5"
  }
 },
 "nbformat": 4,
 "nbformat_minor": 2
}
