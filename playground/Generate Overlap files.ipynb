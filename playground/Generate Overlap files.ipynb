{
 "cells": [
  {
   "cell_type": "code",
   "execution_count": 2,
   "metadata": {},
   "outputs": [],
   "source": [
    "import sqlite3\n",
    "import pandas as pd"
   ]
  },
  {
   "cell_type": "code",
   "execution_count": 3,
   "metadata": {},
   "outputs": [
    {
     "data": {
      "text/plain": [
       "<sqlite3.Cursor at 0x112cdb1f0>"
      ]
     },
     "execution_count": 3,
     "metadata": {},
     "output_type": "execute_result"
    }
   ],
   "source": [
    "conn = sqlite3.connect('../processed_data/all_variants.sqlite')\n",
    "conn.executescript('''\\\n",
    "PRAGMA cache_size=-4192000;\n",
    "PRAGMA temp_store=MEMORY;\n",
    "PRAGMA journal_mode=OFF;\n",
    "''')"
   ]
  },
  {
   "cell_type": "markdown",
   "metadata": {},
   "source": [
    "Generate an overlap by the genomic location"
   ]
  },
  {
   "cell_type": "code",
   "execution_count": 7,
   "metadata": {},
   "outputs": [
    {
     "name": "stdout",
     "output_type": "stream",
     "text": [
      "CPU times: user 38.6 s, sys: 4.08 s, total: 42.7 s\n",
      "Wall time: 43.2 s\n"
     ]
    }
   ],
   "source": [
    "%%time\n",
    "FIELDS_TO_REPORT = '''\\\n",
    "    chromosome, start_position, end_position, tumor_sample_barcode, reference_allele, tumor_seq_allele2,\n",
    "    g.tumor_seq_allele1 AS gdc_tumor_seq_allele1, \n",
    "    m.tumor_seq_allele1 AS mc3_tumor_seq_allele1,\n",
    "    g.variant_classification AS gdc_variant_classification, \n",
    "    m.variant_classification AS mc3_variant_classification, \n",
    "    g.variant_type AS gdc_variant_type,\n",
    "    m.variant_type AS mc3_variant_type,\n",
    "    g.transcript_id AS gdc_transcript_id,\n",
    "    g.callers AS gdc_callers,\n",
    "    m.centers AS mc3_callers, \n",
    "    m.ncallers AS mc3_ncallers\n",
    "'''\n",
    "\n",
    "df_exact_overlap = pd.read_sql(\n",
    "f'''\\\n",
    "WITH gdc_simple AS (\n",
    "    SELECT \n",
    "        chromosome, start_position, end_position, tumor_sample_barcode,\n",
    "        variant_classification, variant_type, transcript_id,\n",
    "        reference_allele, tumor_seq_allele1, tumor_seq_allele2,\n",
    "        t_depth_per_caller, t_ref_count_per_caller, t_alt_count_per_caller,\n",
    "        n_depth_per_caller, callers\n",
    "    FROM gdc_grp_shared_samples\n",
    "), mc3_simple AS (\n",
    "    SELECT \n",
    "        'chr' || chromosome AS chromosome, start_position, end_position, tumor_sample_barcode,\n",
    "        variant_classification, variant_type, transcript_id,\n",
    "        reference_allele, tumor_seq_allele1, tumor_seq_allele2,\n",
    "        t_depth, t_ref_count, t_alt_count, n_depth,\n",
    "        centers, ncallers\n",
    "    FROM mc3_selected\n",
    ") \n",
    "SELECT {FIELDS_TO_REPORT}\n",
    "FROM gdc_simple g\n",
    "LEFT JOIN mc3_simple m\n",
    "    USING (tumor_sample_barcode, chromosome, start_position, end_position, reference_allele, tumor_seq_allele2)\n",
    "UNION ALL\n",
    "SELECT {FIELDS_TO_REPORT}\n",
    "FROM mc3_simple m\n",
    "LEFT JOIN gdc_simple g\n",
    "    USING (tumor_sample_barcode, chromosome, start_position, end_position, reference_allele, tumor_seq_allele2)\n",
    "WHERE g.tumor_seq_allele1 IS NULL\n",
    "''', conn)"
   ]
  },
  {
   "cell_type": "code",
   "execution_count": 14,
   "metadata": {},
   "outputs": [],
   "source": [
    "df_exact_overlap = df_exact_overlap.assign(\n",
    "    shared_by_gdc_mc3=lambda df: df['mc3_callers'].notnull() & df['gdc_callers'].notnull(),\n",
    "    only_in_gdc=lambda df: df['gdc_callers'].notnull() & df['mc3_callers'].isnull(),\n",
    "    only_in_mc3=lambda df: df['gdc_callers'].isnull() & df['mc3_callers'].notnull()\n",
    ")"
   ]
  },
  {
   "cell_type": "code",
   "execution_count": 19,
   "metadata": {},
   "outputs": [
    {
     "data": {
      "text/plain": [
       "shared_by_gdc_mc3    412388\n",
       "only_in_gdc           99336\n",
       "only_in_mc3           37919\n",
       "dtype: int64"
      ]
     },
     "execution_count": 19,
     "metadata": {},
     "output_type": "execute_result"
    }
   ],
   "source": [
    "df_exact_overlap[['shared_by_gdc_mc3', 'only_in_gdc', 'only_in_mc3']].sum()"
   ]
  },
  {
   "cell_type": "code",
   "execution_count": 21,
   "metadata": {},
   "outputs": [],
   "source": [
    "df_exact_overlap.to_csv('../processed_data/gdc_mc3_overlap_by_genomic_location.csv', index=False)"
   ]
  },
  {
   "cell_type": "code",
   "execution_count": null,
   "metadata": {},
   "outputs": [],
   "source": []
  }
 ],
 "metadata": {
  "kernelspec": {
   "display_name": "Python 3",
   "language": "python",
   "name": "python3"
  },
  "language_info": {
   "codemirror_mode": {
    "name": "ipython",
    "version": 3
   },
   "file_extension": ".py",
   "mimetype": "text/x-python",
   "name": "python",
   "nbconvert_exporter": "python",
   "pygments_lexer": "ipython3",
   "version": "3.6.5"
  }
 },
 "nbformat": 4,
 "nbformat_minor": 2
}
