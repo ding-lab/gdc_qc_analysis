{
 "cells": [
  {
   "cell_type": "code",
   "execution_count": 1,
   "metadata": {},
   "outputs": [],
   "source": [
    "import pandas as pd\n",
    "import sqlite3"
   ]
  },
  {
   "cell_type": "code",
   "execution_count": 2,
   "metadata": {},
   "outputs": [],
   "source": [
    "conn = sqlite3.connect('../variants.sqlite')"
   ]
  },
  {
   "cell_type": "code",
   "execution_count": 7,
   "metadata": {},
   "outputs": [],
   "source": [
    "tumor_barcodes = pd.read_sql(\n",
    "    'SELECT DISTINCT tumor_sample_barcode FROM gdc_grouped_callers',\n",
    "    conn\n",
    ")"
   ]
  },
  {
   "cell_type": "code",
   "execution_count": 28,
   "metadata": {},
   "outputs": [],
   "source": [
    "TPL = '''\\\n",
    "DROP TABLE IF EXISTS mc3_selected;\n",
    "CREATE TABLE IF NOT EXISTS mc3_selected AS\n",
    "SELECT * FROM mc3 \n",
    "WHERE tumor_sample_barcode IN ({sample_list});\n",
    "'''\n",
    "with open('../mc3_select_samples.sql', 'w') as f:\n",
    "    sample_list = ', '.join(f\"'{v}'\" for v in tumor_barcodes.iloc[:, 0])\n",
    "    print(TPL.format(sample_list=sample_list), file=f)"
   ]
  },
  {
   "cell_type": "code",
   "execution_count": null,
   "metadata": {},
   "outputs": [],
   "source": []
  }
 ],
 "metadata": {
  "kernelspec": {
   "display_name": "Python 3",
   "language": "python",
   "name": "python3"
  },
  "language_info": {
   "codemirror_mode": {
    "name": "ipython",
    "version": 3
   },
   "file_extension": ".py",
   "mimetype": "text/x-python",
   "name": "python",
   "nbconvert_exporter": "python",
   "pygments_lexer": "ipython3",
   "version": "3.6.5"
  }
 },
 "nbformat": 4,
 "nbformat_minor": 2
}
